{
 "cells": [
  {
   "cell_type": "code",
   "execution_count": 1,
   "metadata": {},
   "outputs": [],
   "source": [
    "from data_aug.data_aug import *\n",
    "from data_aug.bbox_util import *\n",
    "import numpy as np \n",
    "import cv2 \n",
    "import matplotlib.pyplot as plt \n",
    "import pandas as pd\n",
    "%matplotlib inline"
   ]
  },
  {
   "cell_type": "markdown",
   "metadata": {},
   "source": [
    "# Data Augmentation"
   ]
  },
  {
   "cell_type": "markdown",
   "metadata": {},
   "source": [
    "#### This notebook require the original training images and the training images bounding boxes annotation in csv format with each row having columns in the order of image, xmin, ymin, xmax, ymax"
   ]
  },
  {
   "cell_type": "code",
   "execution_count": 37,
   "metadata": {},
   "outputs": [],
   "source": [
    "df = pd.read_csv('train_solution_bounding_boxes (1).csv')\n",
    "df['class'] = 0"
   ]
  },
  {
   "cell_type": "code",
   "execution_count": 38,
   "metadata": {},
   "outputs": [
    {
     "data": {
      "text/plain": [
       "559"
      ]
     },
     "execution_count": 38,
     "metadata": {},
     "output_type": "execute_result"
    }
   ],
   "source": [
    "len(df['image'])"
   ]
  },
  {
   "cell_type": "code",
   "execution_count": 39,
   "metadata": {},
   "outputs": [
    {
     "data": {
      "text/plain": [
       "355"
      ]
     },
     "execution_count": 39,
     "metadata": {},
     "output_type": "execute_result"
    }
   ],
   "source": [
    "len(df['image'].unique())"
   ]
  },
  {
   "cell_type": "code",
   "execution_count": 40,
   "metadata": {},
   "outputs": [],
   "source": [
    "imgs_list = df['image'].unique()"
   ]
  },
  {
   "cell_type": "code",
   "execution_count": 41,
   "metadata": {},
   "outputs": [],
   "source": [
    "header = [['image', 'xmin', 'ymin', 'xmax', 'ymax']]\n",
    "pd.DataFrame(header).to_csv('augmented_training_images_annotations.csv', index=False, header=False)"
   ]
  },
  {
   "cell_type": "code",
   "execution_count": 42,
   "metadata": {},
   "outputs": [
    {
     "name": "stdout",
     "output_type": "stream",
     "text": [
      "Data Augmentation Completed.\n"
     ]
    }
   ],
   "source": [
    "for i in range(len(imgs_list)):\n",
    "    current_img_name = imgs_list[i]\n",
    "    img = cv2.imread('training_images/{}'.format(current_img_name))[:,:,::-1]\n",
    "    \n",
    "    df_image = df[df['image'] == current_img_name]\n",
    "    df_image = df_image.drop(['image'], axis = 1)\n",
    "    bboxes = df_image.to_numpy()\n",
    "    \n",
    "    seq = Sequence([RandomHSV(50, 50, 50),RandomHorizontalFlip(), RandomScale(0.3), RandomTranslate(0.3)])\n",
    "    img_, bboxes_ = seq(img.copy(), bboxes.copy())\n",
    "    \n",
    "    new_img_name = current_img_name[0:-4] + '_dg.jpg'\n",
    "    img_names = [new_img_name] * (bboxes_.shape[0])\n",
    "    df_bboxes_ = pd.DataFrame(bboxes_)\n",
    "    df_bboxes_ = df_bboxes_.drop([4], axis=1)   # drop the class column as it is not needed in our case\n",
    "    df_bboxes_.insert (0, 'image', img_names)\n",
    "    \n",
    "    \n",
    "    cv2.imwrite('augmented_training_images/{}'.format(new_img_name), img_)\n",
    "    df_bboxes_.to_csv('augmented_training_images_annotations.csv', index=False, header=False, mode='a')\n",
    "\n",
    "print(\"Data Augmentation Completed.\")"
   ]
  },
  {
   "cell_type": "markdown",
   "metadata": {},
   "source": [
    "#### The new annotation data will be saved in the file augmented_training_images_annotations.csv\n",
    "#### The augmented images will be saved in the folder augmented_training_images"
   ]
  },
  {
   "cell_type": "code",
   "execution_count": null,
   "metadata": {},
   "outputs": [],
   "source": []
  },
  {
   "cell_type": "markdown",
   "metadata": {},
   "source": [
    "# Split Data into Train/Valid in YoLo format"
   ]
  },
  {
   "cell_type": "code",
   "execution_count": 43,
   "metadata": {},
   "outputs": [],
   "source": [
    "df2 = pd.read_csv('augmented_training_images_annotations.csv')"
   ]
  },
  {
   "cell_type": "code",
   "execution_count": 44,
   "metadata": {},
   "outputs": [],
   "source": [
    "dg_imgs = os.listdir('augmented_training_images/')"
   ]
  },
  {
   "cell_type": "code",
   "execution_count": 46,
   "metadata": {},
   "outputs": [
    {
     "name": "stdout",
     "output_type": "stream",
     "text": [
      "Number of validation images: 71\n"
     ]
    }
   ],
   "source": [
    "#create validation set of images\n",
    "random.seed(4)\n",
    "n = round(0.2 * len(dg_imgs))\n",
    "val = random.sample(dg_imgs, n)\n",
    "print('Number of validation images:', n)"
   ]
  },
  {
   "cell_type": "code",
   "execution_count": 47,
   "metadata": {},
   "outputs": [
    {
     "data": {
      "text/html": [
       "<div>\n",
       "<style scoped>\n",
       "    .dataframe tbody tr th:only-of-type {\n",
       "        vertical-align: middle;\n",
       "    }\n",
       "\n",
       "    .dataframe tbody tr th {\n",
       "        vertical-align: top;\n",
       "    }\n",
       "\n",
       "    .dataframe thead th {\n",
       "        text-align: right;\n",
       "    }\n",
       "</style>\n",
       "<table border=\"1\" class=\"dataframe\">\n",
       "  <thead>\n",
       "    <tr style=\"text-align: right;\">\n",
       "      <th></th>\n",
       "      <th>image</th>\n",
       "      <th>class</th>\n",
       "      <th>x_center</th>\n",
       "      <th>y_center</th>\n",
       "      <th>width</th>\n",
       "      <th>height</th>\n",
       "    </tr>\n",
       "  </thead>\n",
       "  <tbody>\n",
       "    <tr>\n",
       "      <th>0</th>\n",
       "      <td>vid_4_1000_dg.jpg</td>\n",
       "      <td>0</td>\n",
       "      <td>0.637188</td>\n",
       "      <td>0.627498</td>\n",
       "      <td>0.076555</td>\n",
       "      <td>0.106065</td>\n",
       "    </tr>\n",
       "    <tr>\n",
       "      <th>1</th>\n",
       "      <td>vid_4_10000_dg.jpg</td>\n",
       "      <td>0</td>\n",
       "      <td>0.319610</td>\n",
       "      <td>0.872251</td>\n",
       "      <td>0.188432</td>\n",
       "      <td>0.157443</td>\n",
       "    </tr>\n",
       "    <tr>\n",
       "      <th>2</th>\n",
       "      <td>vid_4_10040_dg.jpg</td>\n",
       "      <td>0</td>\n",
       "      <td>0.233681</td>\n",
       "      <td>0.342556</td>\n",
       "      <td>0.200586</td>\n",
       "      <td>0.173410</td>\n",
       "    </tr>\n",
       "    <tr>\n",
       "      <th>3</th>\n",
       "      <td>vid_4_10020_dg.jpg</td>\n",
       "      <td>0</td>\n",
       "      <td>0.752053</td>\n",
       "      <td>0.430424</td>\n",
       "      <td>0.202994</td>\n",
       "      <td>0.169306</td>\n",
       "    </tr>\n",
       "    <tr>\n",
       "      <th>4</th>\n",
       "      <td>vid_4_10060_dg.jpg</td>\n",
       "      <td>0</td>\n",
       "      <td>0.020266</td>\n",
       "      <td>0.313999</td>\n",
       "      <td>0.040533</td>\n",
       "      <td>0.102297</td>\n",
       "    </tr>\n",
       "  </tbody>\n",
       "</table>\n",
       "</div>"
      ],
      "text/plain": [
       "                image  class  x_center  y_center     width    height\n",
       "0   vid_4_1000_dg.jpg      0  0.637188  0.627498  0.076555  0.106065\n",
       "1  vid_4_10000_dg.jpg      0  0.319610  0.872251  0.188432  0.157443\n",
       "2  vid_4_10040_dg.jpg      0  0.233681  0.342556  0.200586  0.173410\n",
       "3  vid_4_10020_dg.jpg      0  0.752053  0.430424  0.202994  0.169306\n",
       "4  vid_4_10060_dg.jpg      0  0.020266  0.313999  0.040533  0.102297"
      ]
     },
     "execution_count": 47,
     "metadata": {},
     "output_type": "execute_result"
    }
   ],
   "source": [
    "#convert bounding box to yolo format (x_center, y_center, width, height and normalize 0 - 1)\n",
    "frame = cv2.imread('augmented_training_images/' + dg_imgs[0])\n",
    "h, w, colour = frame.shape\n",
    "\n",
    "df2['class'] = 0\n",
    "df2['x_center'] = (df2['xmin'] +  (df2['xmax'] - df2['xmin']) / 2 ) / w\n",
    "df2['y_center'] = (df2['ymin'] +  (df2['ymax'] - df2['ymin']) / 2 ) / h\n",
    "df2['width'] = (df2['xmax'] - df2['xmin']) / w\n",
    "df2['height'] = (df2['ymax'] - df2['ymin']) / h\n",
    "\n",
    "df2 = df2.drop(['xmin', 'ymin', 'xmax', 'ymax'], axis = 1)\n",
    "\n",
    "df2.head()"
   ]
  },
  {
   "cell_type": "code",
   "execution_count": 49,
   "metadata": {},
   "outputs": [],
   "source": [
    "#Save images and labels - one text file per image\n",
    "for im in dg_imgs:\n",
    "  frame = cv2.imread('augmented_training_images/{}'.format(im))\n",
    "  df_image = df2[df2['image'] == im]\n",
    "  df_image = df_image.drop(['image'], axis = 1)\n",
    "  df_image.head()\n",
    "  lbl = im[0:-3] + 'txt'\n",
    "  #print(lbl)\n",
    "  \n",
    "  if im in val:    \n",
    "    cv2.imwrite('augmented_processed_data/yolo/valid/{}'.format(im), frame)\n",
    "    df_image.to_csv('augmented_processed_data/yolo/valid/{}'.format(lbl), \n",
    "                    header=None, index=None, sep=' ', mode='a')\n",
    "  else:\n",
    "    cv2.imwrite('augmented_processed_data/yolo/train/{}'.format(im), frame)\n",
    "    df_image.to_csv('augmented_processed_data/yolo/train/{}'.format(lbl), \n",
    "                    header=None, index=None, sep=' ', mode='a')"
   ]
  },
  {
   "cell_type": "markdown",
   "metadata": {},
   "source": [
    "### All processed image files in yolo format are save inside the augmented_processed_data folder"
   ]
  },
  {
   "cell_type": "code",
   "execution_count": null,
   "metadata": {},
   "outputs": [],
   "source": []
  }
 ],
 "metadata": {
  "kernelspec": {
   "display_name": "Python 3",
   "language": "python",
   "name": "python3"
  },
  "language_info": {
   "codemirror_mode": {
    "name": "ipython",
    "version": 3
   },
   "file_extension": ".py",
   "mimetype": "text/x-python",
   "name": "python",
   "nbconvert_exporter": "python",
   "pygments_lexer": "ipython3",
   "version": "3.8.5"
  }
 },
 "nbformat": 4,
 "nbformat_minor": 4
}
